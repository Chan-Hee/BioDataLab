{
 "cells": [
  {
   "cell_type": "code",
   "execution_count": 1,
   "metadata": {
    "collapsed": true
   },
   "outputs": [],
   "source": [
    "##############Import Library##########\n",
    "import random\n",
    "import numpy as np\n",
    "import math\n",
    "import pandas as pd\n",
    "import tensorflow as tf\n",
    "tf.set_random_seed(777) \n",
    "\n",
    "\n",
    "def five_fold(data, i):\n",
    "    test_data = data[data['index']==i+1]\n",
    "    train_data = data[(data['index']<i+1) | (data['index']>i+1)]\n",
    "    \n",
    "    return train_data , test_data\n",
    "##############Read Data###############\n",
    "datafilename = \"/home/tjahn/Data/FinalData.csv\"\n",
    "dataset = pd.read_csv(datafilename)\n",
    "print(dataset)\n",
    "data = pd.read_excel(\"/Users/Taewan/Downloads/cp.xlsx\")\n",
    "# data = data.dropna(subset=[\"Cancer mechanism\"])\n",
    "data = data.dropna(subset=[\"Genes\"])\n",
    "print(data)\n",
    "##############Collecting gene by name of mechanism################\n",
    "mechanisms = [\"Tumor promoting inflammation\", \"Inducing angiogenesis\", \"Resisting cell death\", \n",
    "              \"Activating invasion & metastasis\",\"Sustaining proliferative signalling\",\n",
    "             \"Deregulating cellular energetics\"]\n",
    "\n",
    "mechanism_dict = {}\n",
    "for i in mechanisms :\n",
    "    genes = data[data[\"Cancer mechanism\"] == i][\"Genes\"]\n",
    "    genelist= []\n",
    "    for gene in genes:\n",
    "        genenames = gene.split('\\n')\n",
    "        for genename in genenames :\n",
    "            genelist.append(genename)\n",
    "    mechanism_dict[i] = genelist    \n",
    "    \n",
    "for i in mechanism_dict:\n",
    "    print(i, mechanism_dict[i])\n",
    "    \n",
    "##############Make Matrix#############\n",
    "################### 15 X 6000 Matrix를 만든다. ###################\n",
    "dataset_cnn = np.empty((11955,15,6000))"
   ]
  },
  {
   "cell_type": "code",
   "execution_count": 45,
   "metadata": {},
   "outputs": [
    {
     "name": "stdout",
     "output_type": "stream",
     "text": [
      "Tumor promoting inflammation ['ATF2', 'CHUK', 'IFNG', 'IKBKB', 'IL2', 'IL4', 'JUN', 'MAP3K1', 'MAP3K5', 'MAP4K5', 'MAPK14', 'MAPK8', 'NFKB1', 'NFKBIA', 'RELA', 'TNFRSF9', 'TRAF2']\n",
      "Inducing angiogenesis ['ACE', 'ACE2', 'AGT', 'AGTR1', 'AGTR2', 'CMA1', 'COL4A1', 'COL4A2', 'COL4A3', 'COL4A4', 'COL4A5', 'COL4A6', 'REN']\n",
      "Resisting cell death ['AKT1', 'BAD', 'CHRNB1', 'CHRNG', 'FASLG', 'FOXO3', 'MUSK', 'PIK3CA', 'PIK3CG', 'PIK3R1', 'PTK2', 'PTK2B', 'RAPSN', 'SRC', 'TERT', 'YWHAH', 'AKT1', 'BAD', 'CASP9', 'CHUK', 'FASLG', 'FOXO1', 'FOXO3', 'FOXO4', 'GH1', 'GHR', 'HSP90AA1', 'IKBKB', 'IKBKG', 'NFKB1', 'NFKBIA', 'PDPK1', 'PIK3CA', 'PIK3CG', 'PIK3R1', 'PPP2CA', 'RELA', 'YWHAH']\n",
      "Activating invasion & metastasis ['ACTA1', 'CDC42', 'CHRM1', 'CHRNA1', 'CTTN', 'DAG1', 'DMD', 'DVL1', 'EGFR', 'GIT2', 'ITGA1', 'ITGB1', 'JUN', 'LAMA2', 'LAMA3', 'LAMA4', 'MAPK1', 'MAPK3', 'MAPK8', 'MUSK', 'NRG1', 'NRG2', 'NRG3', 'PAK1', 'PAK2', 'PAK3', 'PAK4', 'PAK6', 'PAK7', 'PTK2', 'PXN', 'RAC1', 'RAPSN', 'SP1', 'SRC', 'UTRN', 'AKAP13', 'GNA12', 'GNA13', 'LPAR1', 'LPAR2', 'LPAR3', 'PRKACB', 'PRKACG', 'PRKAG1', 'PRKAR2A', 'PRKAR2B', 'RHOA']\n",
      "Sustaining proliferative signalling ['ARRB1', 'GNAS', 'GNB1', 'GNGT1', 'GRK4', 'PRKACB', 'PRKACG', 'PRKAR1A', 'PRKAR1B', 'PRKAR2A', 'PRKAR2B', 'PRKCA', 'PRKCB', 'AKAP8', 'CCNB1', 'CDK1', 'DDX5', 'NCAPD2', 'PPP1CA', 'PPP2CA', 'PRKACB', 'PRKACG', 'PRKAG1', 'PRKAR2A', 'PRKAR2B', 'AKAP9', 'CDK1', 'MAP2', 'NUP85', 'PCNT', 'PKN1', 'PPP1CA', 'PPP2CA', 'PRKACB', 'PRKACG', 'PRKAG1', 'PRKAR2A', 'PRKAR2B', 'PRKCE', 'RHOA', 'ACVR1', 'APC', 'ATF2', 'AXIN1', 'BMP10', 'BMP2', 'BMP4', 'BMP5', 'BMP7', 'BMPR1A', 'BMPR2', 'CHRD', 'CTNNB1', 'DVL1', 'FZD1', 'GATA4', 'GSK3B', 'HNF1A', 'MAP3K7', 'MEF2C', 'MYL2', 'NKX2-5', 'NOG', 'NPPA', 'NPPB', 'RFC1', 'SMAD1', 'SMAD4', 'SMAD5', 'SMAD6', 'TGFB1', 'TGFB2', 'TGFB3', 'TGFBR1', 'TGFBR2', 'TGFBR3', 'WNT1', 'ARF1', 'ARFGAP1', 'ARFGAP3', 'ARFGEF1', 'ARFGEF2', 'ASAP2', 'CLTB', 'COP', 'COPA', 'CYTH1', 'CYTH2', 'CYTH3', 'CYTH4', 'GBF1', 'GPLD1', 'KDELR1', 'KDELR2', 'KDELR3']\n",
      "Deregulating cellular energetics ['AHSP', 'ALAD', 'ALAS1', 'ALAS2', 'CPOX', 'FECH', 'GATA1', 'HBA1', 'HBA2', 'HBB', 'HMBS', 'UROD', 'UROS', 'AHSP', 'COL4A1', 'COL4A2', 'COL4A3', 'COL4A4', 'COL4A5', 'COL4A6', 'F10', 'F2', 'F2R', 'F7', 'FGA', 'FGB', 'FGG', 'PLAT', 'PLG', 'PROC', 'PROS1', 'SERPINC1', 'TFPI']\n"
     ]
    }
   ],
   "source": []
  },
  {
   "cell_type": "code",
   "execution_count": 46,
   "metadata": {},
   "outputs": [
    {
     "name": "stdout",
     "output_type": "stream",
     "text": [
      "[[[ 0.  0.  0. ...,  0.  0.  0.]\n",
      "  [ 0.  0.  0. ...,  0.  0.  0.]\n",
      "  [ 0.  0.  0. ...,  0.  0.  0.]\n",
      "  ..., \n",
      "  [ 0.  0.  0. ...,  0.  0.  0.]\n",
      "  [ 0.  0.  0. ...,  0.  0.  0.]\n",
      "  [ 0.  0.  0. ...,  0.  0.  0.]]\n",
      "\n",
      " [[ 0.  0.  0. ...,  0.  0.  0.]\n",
      "  [ 0.  0.  0. ...,  0.  0.  0.]\n",
      "  [ 0.  0.  0. ...,  0.  0.  0.]\n",
      "  ..., \n",
      "  [ 0.  0.  0. ...,  0.  0.  0.]\n",
      "  [ 0.  0.  0. ...,  0.  0.  0.]\n",
      "  [ 0.  0.  0. ...,  0.  0.  0.]]\n",
      "\n",
      " [[ 0.  0.  0. ...,  0.  0.  0.]\n",
      "  [ 0.  0.  0. ...,  0.  0.  0.]\n",
      "  [ 0.  0.  0. ...,  0.  0.  0.]\n",
      "  ..., \n",
      "  [ 0.  0.  0. ...,  0.  0.  0.]\n",
      "  [ 0.  0.  0. ...,  0.  0.  0.]\n",
      "  [ 0.  0.  0. ...,  0.  0.  0.]]\n",
      "\n",
      " ..., \n",
      " [[ 0.  0.  0. ...,  0.  0.  0.]\n",
      "  [ 0.  0.  0. ...,  0.  0.  0.]\n",
      "  [ 0.  0.  0. ...,  0.  0.  0.]\n",
      "  ..., \n",
      "  [ 0.  0.  0. ...,  0.  0.  0.]\n",
      "  [ 0.  0.  0. ...,  0.  0.  0.]\n",
      "  [ 0.  0.  0. ...,  0.  0.  0.]]\n",
      "\n",
      " [[ 0.  0.  0. ...,  0.  0.  0.]\n",
      "  [ 0.  0.  0. ...,  0.  0.  0.]\n",
      "  [ 0.  0.  0. ...,  0.  0.  0.]\n",
      "  ..., \n",
      "  [ 0.  0.  0. ...,  0.  0.  0.]\n",
      "  [ 0.  0.  0. ...,  0.  0.  0.]\n",
      "  [ 0.  0.  0. ...,  0.  0.  0.]]\n",
      "\n",
      " [[ 0.  0.  0. ...,  0.  0.  0.]\n",
      "  [ 0.  0.  0. ...,  0.  0.  0.]\n",
      "  [ 0.  0.  0. ...,  0.  0.  0.]\n",
      "  ..., \n",
      "  [ 0.  0.  0. ...,  0.  0.  0.]\n",
      "  [ 0.  0.  0. ...,  0.  0.  0.]\n",
      "  [ 0.  0.  0. ...,  0.  0.  0.]]]\n"
     ]
    }
   ],
   "source": [
    "##############Run CNN#################"
   ]
  },
  {
   "cell_type": "code",
   "execution_count": null,
   "metadata": {
    "collapsed": true
   },
   "outputs": [],
   "source": []
  }
 ],
 "metadata": {
  "kernelspec": {
   "display_name": "Python 3",
   "language": "python",
   "name": "python3"
  },
  "language_info": {
   "codemirror_mode": {
    "name": "ipython",
    "version": 3
   },
   "file_extension": ".py",
   "mimetype": "text/x-python",
   "name": "python",
   "nbconvert_exporter": "python",
   "pygments_lexer": "ipython3",
   "version": "3.6.1"
  }
 },
 "nbformat": 4,
 "nbformat_minor": 2
}
