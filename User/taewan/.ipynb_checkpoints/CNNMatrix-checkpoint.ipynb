{
 "cells": [
  {
   "cell_type": "code",
   "execution_count": null,
   "metadata": {
    "collapsed": true
   },
   "outputs": [],
   "source": [
    "import pandas as pd\n",
    "import numpy as np\n",
    "import matplotlib as mpl\n",
    "from matplotlib import pyplot\n",
    "testcount = 10\n",
    "\n",
    "###189*198###\n",
    "file_directory = \"/home/tjahn/Data\"\n",
    "geneset = pd.read_csv(file_directory+\"geneset.csv\")\n",
    "genedata = pd.read_csv(file_directory+\"FinalData_GSM_gene_index_result.csv\")\n",
    "\n",
    "\n",
    "\n",
    "###Making Matrix###\n",
    "matrix = np.zeros((testcount, len(geneset), 198))\n",
    "###Each GeneSet###\n",
    "geneset['gene_symbols'][188].split()\n",
    "\n",
    "fig = pyplot.figure(2)\n",
    "\n",
    "cmap2 = mpl.colors.LinearSegmentedColormap.from_list('my_colormap',\n",
    "                                           ['white','red'],\n",
    "                                           256)\n",
    "\n",
    "for i in range(testcount):\n",
    "    for j in range(len(geneset)):\n",
    "        gene_symbols = geneset['gene_symbols'][j].split(\",\")\n",
    "        cnt = 0 \n",
    "        for k in range(len(gene_symbols)):\n",
    "            if gene_symbols[k] in testgene.columns :\n",
    "                matrix[i][j][cnt] = genedata[gene_symbols[k]][i]\n",
    "                cnt+=1\n",
    "    \n",
    "    img2 = pyplot.imshow(matrix[i],interpolation='nearest',\n",
    "                    cmap = cmap2,\n",
    "                    origin='lower')\n",
    "    if(i == 0 ):\n",
    "        pyplot.colorbar(img2,cmap=cmap2)\n",
    "    fig.savefig(file_directory+\"image\" +str(i) +\".png\" )\n",
    "#     pyplot.show()"
   ]
  }
 ],
 "metadata": {
  "kernelspec": {
   "display_name": "Python 3",
   "language": "python",
   "name": "python3"
  },
  "language_info": {
   "codemirror_mode": {
    "name": "ipython",
    "version": 3
   },
   "file_extension": ".py",
   "mimetype": "text/x-python",
   "name": "python",
   "nbconvert_exporter": "python",
   "pygments_lexer": "ipython3",
   "version": "3.6.1"
  }
 },
 "nbformat": 4,
 "nbformat_minor": 2
}
